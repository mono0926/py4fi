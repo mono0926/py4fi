{
 "cells": [
  {
   "cell_type": "markdown",
   "metadata": {},
   "source": [
    "<img src=\"http://hilpisch.com/tpq_logo.png\" alt=\"The Python Quants\" width=\"35%\" align=\"right\" border=\"0\"><br>"
   ]
  },
  {
   "cell_type": "markdown",
   "metadata": {},
   "source": [
    "# Python for Finance"
   ]
  },
  {
   "cell_type": "markdown",
   "metadata": {},
   "source": [
    "**Analyze Big Financial Data**\n",
    "\n",
    "O'Reilly (2014)\n",
    "\n",
    "Yves Hilpisch"
   ]
  },
  {
   "cell_type": "markdown",
   "metadata": {},
   "source": [
    "<img style=\"border:1px solid grey;\" src=\"http://hilpisch.com/python_for_finance.png\" alt=\"Python for Finance\" width=\"30%\" align=\"left\" border=\"0\">"
   ]
  },
  {
   "cell_type": "markdown",
   "metadata": {},
   "source": [
    "**Buy the book ** |\n",
    "<a href='http://shop.oreilly.com/product/0636920032441.do' target='_blank'>O'Reilly</a> |\n",
    "<a href='http://www.amazon.com/Yves-Hilpisch/e/B00JCYHHJM' target='_blank'>Amazon</a>\n",
    "\n",
    "**All book codes & IPYNBs** |\n",
    "<a href=\"http://oreilly.quant-platform.com\">http://oreilly.quant-platform.com</a>\n",
    "\n",
    "**The Python Quants GmbH** | <a href='http://pythonquants.com' target='_blank'>www.pythonquants.com</a>\n",
    "\n",
    "**Contact us** | <a href='mailto:analytics@pythonquants.com'>analytics@pythonquants.com</a>"
   ]
  },
  {
   "cell_type": "markdown",
   "metadata": {},
   "source": [
    "# Data Types and Structures"
   ]
  },
  {
   "cell_type": "markdown",
   "metadata": {},
   "source": [
    "## Basic Data Types"
   ]
  },
  {
   "cell_type": "markdown",
   "metadata": {},
   "source": [
    "### Integers"
   ]
  },
  {
   "cell_type": "code",
   "execution_count": 1,
   "metadata": {},
   "outputs": [
    {
     "data": {
      "text/plain": [
       "int"
      ]
     },
     "execution_count": 1,
     "output_type": "execute_result",
     "metadata": {}
    }
   ],
   "source": [
    "a = 10\n",
    "type(a)"
   ]
  },
  {
   "cell_type": "code",
   "execution_count": 2,
   "metadata": {},
   "outputs": [
    {
     "data": {
      "text/plain": [
       "4"
      ]
     },
     "execution_count": 2,
     "output_type": "execute_result",
     "metadata": {}
    }
   ],
   "source": [
    "a.bit_length()"
   ]
  },
  {
   "cell_type": "code",
   "execution_count": 3,
   "metadata": {},
   "outputs": [
    {
     "data": {
      "text/plain": [
       "17"
      ]
     },
     "execution_count": 3,
     "output_type": "execute_result",
     "metadata": {}
    }
   ],
   "source": [
    "a = 100000\n",
    "a.bit_length()"
   ]
  },
  {
   "cell_type": "code",
   "execution_count": 4,
   "metadata": {},
   "outputs": [
    {
     "data": {
      "text/plain": [
       "10000000000000000000000000000000000000000000000000000000000000000000000000000000000000000000000000000L"
      ]
     },
     "execution_count": 4,
     "output_type": "execute_result",
     "metadata": {}
    }
   ],
   "source": [
    "googol = 10 ** 100\n",
    "googol"
   ]
  },
  {
   "cell_type": "code",
   "execution_count": 5,
   "metadata": {},
   "outputs": [
    {
     "data": {
      "text/plain": [
       "333"
      ]
     },
     "execution_count": 5,
     "output_type": "execute_result",
     "metadata": {}
    }
   ],
   "source": [
    "googol.bit_length()"
   ]
  },
  {
   "cell_type": "code",
   "execution_count": 6,
   "metadata": {},
   "outputs": [
    {
     "data": {
      "text/plain": [
       "5"
      ]
     },
     "execution_count": 6,
     "output_type": "execute_result",
     "metadata": {}
    }
   ],
   "source": [
    "1 + 4"
   ]
  },
  {
   "cell_type": "code",
   "execution_count": 7,
   "metadata": {},
   "outputs": [
    {
     "data": {
      "text/plain": [
       "0"
      ]
     },
     "execution_count": 7,
     "output_type": "execute_result",
     "metadata": {}
    }
   ],
   "source": [
    "1 / 4"
   ]
  },
  {
   "cell_type": "code",
   "execution_count": 8,
   "metadata": {},
   "outputs": [
    {
     "data": {
      "text/plain": [
       "int"
      ]
     },
     "execution_count": 8,
     "output_type": "execute_result",
     "metadata": {}
    }
   ],
   "source": [
    "type(1 / 4)"
   ]
  },
  {
   "cell_type": "markdown",
   "metadata": {},
   "source": [
    "### Floats"
   ]
  },
  {
   "cell_type": "code",
   "execution_count": 9,
   "metadata": {},
   "outputs": [
    {
     "data": {
      "text/plain": [
       "0.25"
      ]
     },
     "execution_count": 9,
     "output_type": "execute_result",
     "metadata": {}
    }
   ],
   "source": [
    "1. / 4"
   ]
  },
  {
   "cell_type": "code",
   "execution_count": 10,
   "metadata": {},
   "outputs": [
    {
     "data": {
      "text/plain": [
       "float"
      ]
     },
     "execution_count": 10,
     "output_type": "execute_result",
     "metadata": {}
    }
   ],
   "source": [
    "type (1. / 4)"
   ]
  },
  {
   "cell_type": "code",
   "execution_count": 11,
   "metadata": {},
   "outputs": [
    {
     "data": {
      "text/plain": [
       "float"
      ]
     },
     "execution_count": 11,
     "output_type": "execute_result",
     "metadata": {}
    }
   ],
   "source": [
    "b = 0.35\n",
    "type(b)"
   ]
  },
  {
   "cell_type": "code",
   "execution_count": 12,
   "metadata": {},
   "outputs": [
    {
     "data": {
      "text/plain": [
       "0.44999999999999996"
      ]
     },
     "execution_count": 12,
     "output_type": "execute_result",
     "metadata": {}
    }
   ],
   "source": [
    "b + 0.1"
   ]
  },
  {
   "cell_type": "code",
   "execution_count": 13,
   "metadata": {},
   "outputs": [
    {
     "data": {
      "text/plain": [
       "(1, 2)"
      ]
     },
     "execution_count": 13,
     "output_type": "execute_result",
     "metadata": {}
    }
   ],
   "source": [
    "c = 0.5\n",
    "c.as_integer_ratio()"
   ]
  },
  {
   "cell_type": "code",
   "execution_count": 14,
   "metadata": {},
   "outputs": [
    {
     "data": {
      "text/plain": [
       "(3152519739159347, 9007199254740992)"
      ]
     },
     "execution_count": 14,
     "output_type": "execute_result",
     "metadata": {}
    }
   ],
   "source": [
    "b.as_integer_ratio()"
   ]
  },
  {
   "cell_type": "code",
   "execution_count": 15,
   "metadata": {},
   "outputs": [],
   "source": [
    "import decimal\n",
    "from decimal import Decimal"
   ]
  },
  {
   "cell_type": "code",
   "execution_count": 16,
   "metadata": {},
   "outputs": [
    {
     "data": {
      "text/plain": [
       "Context(prec=28, rounding=ROUND_HALF_EVEN, Emin=-999999999, Emax=999999999, capitals=1, flags=[], traps=[InvalidOperation, Overflow, DivisionByZero])"
      ]
     },
     "execution_count": 16,
     "output_type": "execute_result",
     "metadata": {}
    }
   ],
   "source": [
    "decimal.getcontext()"
   ]
  },
  {
   "cell_type": "code",
   "execution_count": 17,
   "metadata": {},
   "outputs": [
    {
     "data": {
      "text/plain": [
       "Decimal('0.09090909090909090909090909091')"
      ]
     },
     "execution_count": 17,
     "output_type": "execute_result",
     "metadata": {}
    }
   ],
   "source": [
    "d = Decimal(1) / Decimal (11)\n",
    "d"
   ]
  },
  {
   "cell_type": "code",
   "execution_count": 18,
   "metadata": {},
   "outputs": [],
   "source": [
    "decimal.getcontext().prec = 4  # lower precision than default"
   ]
  },
  {
   "cell_type": "code",
   "execution_count": 19,
   "metadata": {},
   "outputs": [
    {
     "data": {
      "text/plain": [
       "Decimal('0.09091')"
      ]
     },
     "execution_count": 19,
     "output_type": "execute_result",
     "metadata": {}
    }
   ],
   "source": [
    "e = Decimal(1) / Decimal (11)\n",
    "e"
   ]
  },
  {
   "cell_type": "code",
   "execution_count": 20,
   "metadata": {},
   "outputs": [],
   "source": [
    "decimal.getcontext().prec = 50  # higher precision than default"
   ]
  },
  {
   "cell_type": "code",
   "execution_count": 21,
   "metadata": {},
   "outputs": [
    {
     "data": {
      "text/plain": [
       "Decimal('0.090909090909090909090909090909090909090909090909091')"
      ]
     },
     "execution_count": 21,
     "output_type": "execute_result",
     "metadata": {}
    }
   ],
   "source": [
    "f = Decimal(1) / Decimal (11)\n",
    "f"
   ]
  },
  {
   "cell_type": "code",
   "execution_count": 22,
   "metadata": {},
   "outputs": [
    {
     "data": {
      "text/plain": [
       "Decimal('0.27272818181818181818181818181909090909090909090909')"
      ]
     },
     "execution_count": 22,
     "output_type": "execute_result",
     "metadata": {}
    }
   ],
   "source": [
    "g = d + e + f\n",
    "g"
   ]
  },
  {
   "cell_type": "markdown",
   "metadata": {},
   "source": [
    "### Strings"
   ]
  },
  {
   "cell_type": "code",
   "execution_count": 23,
   "metadata": {},
   "outputs": [],
   "source": [
    "t = 'this is a string object'"
   ]
  },
  {
   "cell_type": "code",
   "execution_count": 24,
   "metadata": {},
   "outputs": [
    {
     "data": {
      "text/plain": [
       "'This is a string object'"
      ]
     },
     "execution_count": 24,
     "output_type": "execute_result",
     "metadata": {}
    }
   ],
   "source": [
    "t.capitalize()"
   ]
  },
  {
   "cell_type": "code",
   "execution_count": 25,
   "metadata": {},
   "outputs": [
    {
     "data": {
      "text/plain": [
       "['this', 'is', 'a', 'string', 'object']"
      ]
     },
     "execution_count": 25,
     "output_type": "execute_result",
     "metadata": {}
    }
   ],
   "source": [
    "t.split()"
   ]
  },
  {
   "cell_type": "code",
   "execution_count": 26,
   "metadata": {},
   "outputs": [
    {
     "data": {
      "text/plain": [
       "10"
      ]
     },
     "execution_count": 26,
     "output_type": "execute_result",
     "metadata": {}
    }
   ],
   "source": [
    "t.find('string')"
   ]
  },
  {
   "cell_type": "code",
   "execution_count": 27,
   "metadata": {},
   "outputs": [
    {
     "data": {
      "text/plain": [
       "-1"
      ]
     },
     "execution_count": 27,
     "output_type": "execute_result",
     "metadata": {}
    }
   ],
   "source": [
    "t.find('Python')"
   ]
  },
  {
   "cell_type": "code",
   "execution_count": 28,
   "metadata": {},
   "outputs": [
    {
     "data": {
      "text/plain": [
       "'this|is|a|string|object'"
      ]
     },
     "execution_count": 28,
     "output_type": "execute_result",
     "metadata": {}
    }
   ],
   "source": [
    "t.replace(' ', '|')"
   ]
  },
  {
   "cell_type": "code",
   "execution_count": 29,
   "metadata": {},
   "outputs": [
    {
     "data": {
      "text/plain": [
       "'www.python.org'"
      ]
     },
     "execution_count": 29,
     "output_type": "execute_result",
     "metadata": {}
    }
   ],
   "source": [
    "'http://www.python.org'.strip('htp:/')"
   ]
  },
  {
   "cell_type": "code",
   "execution_count": 30,
   "metadata": {},
   "outputs": [],
   "source": [
    "import re"
   ]
  },
  {
   "cell_type": "code",
   "execution_count": 31,
   "metadata": {},
   "outputs": [],
   "source": [
    "series = \"\"\"\n",
    "'01/18/2014 13:00:00', 100, '1st';\n",
    "'01/18/2014 13:30:00', 110, '2nd';\n",
    "'01/18/2014 14:00:00', 120, '3rd'\n",
    "\"\"\""
   ]
  },
  {
   "cell_type": "code",
   "execution_count": 32,
   "metadata": {},
   "outputs": [],
   "source": [
    "dt = re.compile(\"'[0-9/:\\s]+'\")  # datetime"
   ]
  },
  {
   "cell_type": "code",
   "execution_count": 33,
   "metadata": {},
   "outputs": [
    {
     "data": {
      "text/plain": [
       "[\"'01/18/2014 13:00:00'\", \"'01/18/2014 13:30:00'\", \"'01/18/2014 14:00:00'\"]"
      ]
     },
     "execution_count": 33,
     "output_type": "execute_result",
     "metadata": {}
    }
   ],
   "source": [
    "result = dt.findall(series)\n",
    "result"
   ]
  },
  {
   "cell_type": "code",
   "execution_count": 34,
   "metadata": {},
   "outputs": [
    {
     "data": {
      "text/plain": [
       "datetime.datetime(2014, 1, 18, 13, 0)"
      ]
     },
     "execution_count": 34,
     "output_type": "execute_result",
     "metadata": {}
    }
   ],
   "source": [
    "from datetime import datetime\n",
    "pydt = datetime.strptime(result[0].replace(\"'\", \"\"),\n",
    "                         '%m/%d/%Y %H:%M:%S')\n",
    "pydt"
   ]
  },
  {
   "cell_type": "code",
   "execution_count": 35,
   "metadata": {},
   "outputs": [
    {
     "name": "stdout",
     "output_type": "stream",
     "text": [
      "2014-01-18 13:00:00\n"
     ]
    }
   ],
   "source": [
    "print pydt"
   ]
  },
  {
   "cell_type": "code",
   "execution_count": 36,
   "metadata": {},
   "outputs": [
    {
     "name": "stdout",
     "output_type": "stream",
     "text": [
      "<type 'datetime.datetime'>\n"
     ]
    }
   ],
   "source": [
    "print type(pydt)"
   ]
  },
  {
   "cell_type": "markdown",
   "metadata": {},
   "source": [
    "## Basic Data Structures"
   ]
  },
  {
   "cell_type": "markdown",
   "metadata": {},
   "source": [
    "### Tuples"
   ]
  },
  {
   "cell_type": "code",
   "execution_count": 37,
   "metadata": {},
   "outputs": [
    {
     "data": {
      "text/plain": [
       "tuple"
      ]
     },
     "execution_count": 37,
     "output_type": "execute_result",
     "metadata": {}
    }
   ],
   "source": [
    "t = (1, 2.5, 'data')\n",
    "type(t)"
   ]
  },
  {
   "cell_type": "code",
   "execution_count": 38,
   "metadata": {},
   "outputs": [
    {
     "data": {
      "text/plain": [
       "tuple"
      ]
     },
     "execution_count": 38,
     "output_type": "execute_result",
     "metadata": {}
    }
   ],
   "source": [
    "t = 1, 2.5, 'data'\n",
    "type(t)"
   ]
  },
  {
   "cell_type": "code",
   "execution_count": 39,
   "metadata": {},
   "outputs": [
    {
     "data": {
      "text/plain": [
       "'data'"
      ]
     },
     "execution_count": 39,
     "output_type": "execute_result",
     "metadata": {}
    }
   ],
   "source": [
    "t[2]"
   ]
  },
  {
   "cell_type": "code",
   "execution_count": 40,
   "metadata": {},
   "outputs": [
    {
     "data": {
      "text/plain": [
       "str"
      ]
     },
     "execution_count": 40,
     "output_type": "execute_result",
     "metadata": {}
    }
   ],
   "source": [
    "type(t[2])"
   ]
  },
  {
   "cell_type": "code",
   "execution_count": 41,
   "metadata": {},
   "outputs": [
    {
     "data": {
      "text/plain": [
       "1"
      ]
     },
     "execution_count": 41,
     "output_type": "execute_result",
     "metadata": {}
    }
   ],
   "source": [
    "t.count('data')"
   ]
  },
  {
   "cell_type": "code",
   "execution_count": 42,
   "metadata": {},
   "outputs": [
    {
     "data": {
      "text/plain": [
       "0"
      ]
     },
     "execution_count": 42,
     "output_type": "execute_result",
     "metadata": {}
    }
   ],
   "source": [
    "t.index(1)"
   ]
  },
  {
   "cell_type": "markdown",
   "metadata": {},
   "source": [
    "### Lists"
   ]
  },
  {
   "cell_type": "code",
   "execution_count": 43,
   "metadata": {},
   "outputs": [
    {
     "data": {
      "text/plain": [
       "'data'"
      ]
     },
     "execution_count": 43,
     "output_type": "execute_result",
     "metadata": {}
    }
   ],
   "source": [
    "l = [1, 2.5, 'data']\n",
    "l[2]"
   ]
  },
  {
   "cell_type": "code",
   "execution_count": 44,
   "metadata": {},
   "outputs": [
    {
     "data": {
      "text/plain": [
       "[1, 2.5, 'data']"
      ]
     },
     "execution_count": 44,
     "output_type": "execute_result",
     "metadata": {}
    }
   ],
   "source": [
    "l = list(t)\n",
    "l"
   ]
  },
  {
   "cell_type": "code",
   "execution_count": 45,
   "metadata": {},
   "outputs": [
    {
     "data": {
      "text/plain": [
       "list"
      ]
     },
     "execution_count": 45,
     "output_type": "execute_result",
     "metadata": {}
    }
   ],
   "source": [
    "type(l)"
   ]
  },
  {
   "cell_type": "code",
   "execution_count": 46,
   "metadata": {},
   "outputs": [
    {
     "data": {
      "text/plain": [
       "[1, 2.5, 'data', [4, 3]]"
      ]
     },
     "execution_count": 46,
     "output_type": "execute_result",
     "metadata": {}
    }
   ],
   "source": [
    "l.append([4, 3])  # append list at the end\n",
    "l"
   ]
  },
  {
   "cell_type": "code",
   "execution_count": 47,
   "metadata": {},
   "outputs": [
    {
     "data": {
      "text/plain": [
       "[1, 2.5, 'data', [4, 3], 1.0, 1.5, 2.0]"
      ]
     },
     "execution_count": 47,
     "output_type": "execute_result",
     "metadata": {}
    }
   ],
   "source": [
    "l.extend([1.0, 1.5, 2.0])  # append elements of list\n",
    "l"
   ]
  },
  {
   "cell_type": "code",
   "execution_count": 48,
   "metadata": {},
   "outputs": [
    {
     "data": {
      "text/plain": [
       "[1, 'insert', 2.5, 'data', [4, 3], 1.0, 1.5, 2.0]"
      ]
     },
     "execution_count": 48,
     "output_type": "execute_result",
     "metadata": {}
    }
   ],
   "source": [
    "l.insert(1, 'insert')  # insert object before index position\n",
    "l"
   ]
  },
  {
   "cell_type": "code",
   "execution_count": 49,
   "metadata": {},
   "outputs": [
    {
     "data": {
      "text/plain": [
       "[1, 'insert', 2.5, [4, 3], 1.0, 1.5, 2.0]"
      ]
     },
     "execution_count": 49,
     "output_type": "execute_result",
     "metadata": {}
    }
   ],
   "source": [
    "l.remove('data')  # remove first occurence of object\n",
    "l"
   ]
  },
  {
   "cell_type": "code",
   "execution_count": 50,
   "metadata": {},
   "outputs": [
    {
     "name": "stdout",
     "output_type": "stream",
     "text": [
      "[1, 'insert', 2.5, 1.0, 1.5, 2.0] [4, 3]\n"
     ]
    }
   ],
   "source": [
    "p = l.pop(3)  # removes and returns object at index\n",
    "print l, p"
   ]
  },
  {
   "cell_type": "code",
   "execution_count": 51,
   "metadata": {},
   "outputs": [
    {
     "data": {
      "text/plain": [
       "[2.5, 1.0, 1.5]"
      ]
     },
     "execution_count": 51,
     "output_type": "execute_result",
     "metadata": {}
    }
   ],
   "source": [
    "l[2:5]  # 3rd to 5th element"
   ]
  },
  {
   "cell_type": "markdown",
   "metadata": {},
   "source": [
    "### Excursion: Control Structures"
   ]
  },
  {
   "cell_type": "code",
   "execution_count": 52,
   "metadata": {},
   "outputs": [
    {
     "name": "stdout",
     "output_type": "stream",
     "text": [
      "6.25\n",
      "1.0\n",
      "2.25\n"
     ]
    }
   ],
   "source": [
    "for element in l[2:5]:\n",
    "    print element ** 2"
   ]
  },
  {
   "cell_type": "code",
   "execution_count": 53,
   "metadata": {},
   "outputs": [
    {
     "data": {
      "text/plain": [
       "[0, 1, 2, 3, 4, 5, 6, 7]"
      ]
     },
     "execution_count": 53,
     "output_type": "execute_result",
     "metadata": {}
    }
   ],
   "source": [
    "r = range(0, 8, 1)  # start, end, step width\n",
    "r"
   ]
  },
  {
   "cell_type": "code",
   "execution_count": 54,
   "metadata": {},
   "outputs": [
    {
     "data": {
      "text/plain": [
       "list"
      ]
     },
     "execution_count": 54,
     "output_type": "execute_result",
     "metadata": {}
    }
   ],
   "source": [
    "type(r)"
   ]
  },
  {
   "cell_type": "code",
   "execution_count": 55,
   "metadata": {},
   "outputs": [
    {
     "name": "stdout",
     "output_type": "stream",
     "text": [
      "6.25\n",
      "1.0\n",
      "2.25\n"
     ]
    }
   ],
   "source": [
    "for i in range(2, 5):\n",
    "    print l[i] ** 2"
   ]
  },
  {
   "cell_type": "code",
   "execution_count": 56,
   "metadata": {},
   "outputs": [
    {
     "name": "stdout",
     "output_type": "stream",
     "text": [
      "1 is odd\n",
      "2 is even\n",
      "3 is multiple of 3\n",
      "4 is even\n",
      "5 is odd\n",
      "6 is even\n",
      "7 is odd\n",
      "8 is even\n",
      "9 is multiple of 3\n"
     ]
    }
   ],
   "source": [
    "for i in range(1, 10):\n",
    "    if i % 2 == 0:  # % is for modulo\n",
    "        print \"%d is even\" % i\n",
    "    elif i % 3 == 0:\n",
    "        print \"%d is multiple of 3\" % i\n",
    "    else:\n",
    "        print \"%d is odd\" % i"
   ]
  },
  {
   "cell_type": "code",
   "execution_count": 57,
   "metadata": {},
   "outputs": [
    {
     "name": "stdout",
     "output_type": "stream",
     "text": [
      "100\n"
     ]
    }
   ],
   "source": [
    "total = 0\n",
    "while total < 100:\n",
    "    total += 1\n",
    "print total"
   ]
  },
  {
   "cell_type": "code",
   "execution_count": 58,
   "metadata": {},
   "outputs": [
    {
     "data": {
      "text/plain": [
       "[0, 1, 4, 9, 16]"
      ]
     },
     "execution_count": 58,
     "output_type": "execute_result",
     "metadata": {}
    }
   ],
   "source": [
    "m = [i ** 2 for i in range(5)]\n",
    "m"
   ]
  },
  {
   "cell_type": "markdown",
   "metadata": {},
   "source": [
    "### Excursion: Functional Programming"
   ]
  },
  {
   "cell_type": "code",
   "execution_count": 59,
   "metadata": {},
   "outputs": [
    {
     "data": {
      "text/plain": [
       "4"
      ]
     },
     "execution_count": 59,
     "output_type": "execute_result",
     "metadata": {}
    }
   ],
   "source": [
    "def f(x):\n",
    "    return x ** 2\n",
    "f(2)"
   ]
  },
  {
   "cell_type": "code",
   "execution_count": 60,
   "metadata": {},
   "outputs": [
    {
     "data": {
      "text/plain": [
       "False"
      ]
     },
     "execution_count": 60,
     "output_type": "execute_result",
     "metadata": {}
    }
   ],
   "source": [
    "def even(x):\n",
    "    return x % 2 == 0\n",
    "even(3)"
   ]
  },
  {
   "cell_type": "code",
   "execution_count": 61,
   "metadata": {},
   "outputs": [
    {
     "data": {
      "text/plain": [
       "[True, False, True, False, True, False, True, False, True, False]"
      ]
     },
     "execution_count": 61,
     "output_type": "execute_result",
     "metadata": {}
    }
   ],
   "source": [
    "map(even, range(10))"
   ]
  },
  {
   "cell_type": "code",
   "execution_count": 62,
   "metadata": {},
   "outputs": [
    {
     "data": {
      "text/plain": [
       "[0, 1, 4, 9, 16, 25, 36, 49, 64, 81]"
      ]
     },
     "execution_count": 62,
     "output_type": "execute_result",
     "metadata": {}
    }
   ],
   "source": [
    "map(lambda x: x ** 2, range(10))"
   ]
  },
  {
   "cell_type": "code",
   "execution_count": 63,
   "metadata": {},
   "outputs": [
    {
     "data": {
      "text/plain": [
       "[0, 2, 4, 6, 8, 10, 12, 14]"
      ]
     },
     "execution_count": 63,
     "output_type": "execute_result",
     "metadata": {}
    }
   ],
   "source": [
    "filter(even, range(15))"
   ]
  },
  {
   "cell_type": "code",
   "execution_count": 64,
   "metadata": {},
   "outputs": [
    {
     "data": {
      "text/plain": [
       "45"
      ]
     },
     "execution_count": 64,
     "output_type": "execute_result",
     "metadata": {}
    }
   ],
   "source": [
    "reduce(lambda x, y: x + y, range(10))"
   ]
  },
  {
   "cell_type": "code",
   "execution_count": 65,
   "metadata": {},
   "outputs": [
    {
     "data": {
      "text/plain": [
       "45"
      ]
     },
     "execution_count": 65,
     "output_type": "execute_result",
     "metadata": {}
    }
   ],
   "source": [
    "def cumsum(l):\n",
    "    total = 0\n",
    "    for elem in l:\n",
    "        total += elem\n",
    "    return total\n",
    "cumsum(range(10))"
   ]
  },
  {
   "cell_type": "markdown",
   "metadata": {},
   "source": [
    "### Dicts"
   ]
  },
  {
   "cell_type": "code",
   "execution_count": 66,
   "metadata": {},
   "outputs": [
    {
     "data": {
      "text/plain": [
       "dict"
      ]
     },
     "execution_count": 66,
     "output_type": "execute_result",
     "metadata": {}
    }
   ],
   "source": [
    "d = {\n",
    "     'Name' : 'Angela Merkel',\n",
    "     'Country' : 'Germany',\n",
    "     'Profession' : 'Chancelor',\n",
    "     'Age' : 60\n",
    "     }\n",
    "type(d)"
   ]
  },
  {
   "cell_type": "code",
   "execution_count": 67,
   "metadata": {},
   "outputs": [
    {
     "name": "stdout",
     "output_type": "stream",
     "text": [
      "Angela Merkel 60\n"
     ]
    }
   ],
   "source": [
    "print d['Name'], d['Age']"
   ]
  },
  {
   "cell_type": "code",
   "execution_count": 68,
   "metadata": {},
   "outputs": [
    {
     "data": {
      "text/plain": [
       "['Country', 'Age', 'Profession', 'Name']"
      ]
     },
     "execution_count": 68,
     "output_type": "execute_result",
     "metadata": {}
    }
   ],
   "source": [
    "d.keys()"
   ]
  },
  {
   "cell_type": "code",
   "execution_count": 69,
   "metadata": {},
   "outputs": [
    {
     "data": {
      "text/plain": [
       "['Germany', 60, 'Chancelor', 'Angela Merkel']"
      ]
     },
     "execution_count": 69,
     "output_type": "execute_result",
     "metadata": {}
    }
   ],
   "source": [
    "d.values()"
   ]
  },
  {
   "cell_type": "code",
   "execution_count": 70,
   "metadata": {},
   "outputs": [
    {
     "data": {
      "text/plain": [
       "[('Country', 'Germany'),\n",
       " ('Age', 60),\n",
       " ('Profession', 'Chancelor'),\n",
       " ('Name', 'Angela Merkel')]"
      ]
     },
     "execution_count": 70,
     "output_type": "execute_result",
     "metadata": {}
    }
   ],
   "source": [
    "d.items()"
   ]
  },
  {
   "cell_type": "code",
   "execution_count": 71,
   "metadata": {},
   "outputs": [
    {
     "name": "stdout",
     "output_type": "stream",
     "text": [
      "61\n"
     ]
    }
   ],
   "source": [
    "birthday = True\n",
    "if birthday is True:\n",
    "    d['Age'] += 1\n",
    "print d['Age']"
   ]
  },
  {
   "cell_type": "code",
   "execution_count": 72,
   "metadata": {},
   "outputs": [
    {
     "name": "stdout",
     "output_type": "stream",
     "text": [
      "('Country', 'Germany')\n",
      "('Age', 61)\n",
      "('Profession', 'Chancelor')\n",
      "('Name', 'Angela Merkel')\n"
     ]
    }
   ],
   "source": [
    "for item in d.iteritems():\n",
    "    print item"
   ]
  },
  {
   "cell_type": "code",
   "execution_count": 73,
   "metadata": {},
   "outputs": [
    {
     "name": "stdout",
     "output_type": "stream",
     "text": [
      "<type 'str'>\n",
      "<type 'int'>\n",
      "<type 'str'>\n",
      "<type 'str'>\n"
     ]
    }
   ],
   "source": [
    "for value in d.itervalues():\n",
    "    print type(value)"
   ]
  },
  {
   "cell_type": "markdown",
   "metadata": {},
   "source": [
    "### Sets"
   ]
  },
  {
   "cell_type": "code",
   "execution_count": 74,
   "metadata": {},
   "outputs": [
    {
     "data": {
      "text/plain": [
       "{'d', 'du', 'u', 'ud'}"
      ]
     },
     "execution_count": 74,
     "output_type": "execute_result",
     "metadata": {}
    }
   ],
   "source": [
    "s = set(['u', 'd', 'ud', 'du', 'd', 'du'])\n",
    "s"
   ]
  },
  {
   "cell_type": "code",
   "execution_count": 75,
   "metadata": {},
   "outputs": [],
   "source": [
    "t = set(['d', 'dd', 'uu', 'u'])"
   ]
  },
  {
   "cell_type": "code",
   "execution_count": 76,
   "metadata": {},
   "outputs": [
    {
     "data": {
      "text/plain": [
       "{'d', 'dd', 'du', 'u', 'ud', 'uu'}"
      ]
     },
     "execution_count": 76,
     "output_type": "execute_result",
     "metadata": {}
    }
   ],
   "source": [
    "s.union(t)  # all of s and t"
   ]
  },
  {
   "cell_type": "code",
   "execution_count": 77,
   "metadata": {},
   "outputs": [
    {
     "data": {
      "text/plain": [
       "{'d', 'u'}"
      ]
     },
     "execution_count": 77,
     "output_type": "execute_result",
     "metadata": {}
    }
   ],
   "source": [
    "s.intersection(t)  # both in s and t"
   ]
  },
  {
   "cell_type": "code",
   "execution_count": 78,
   "metadata": {},
   "outputs": [
    {
     "data": {
      "text/plain": [
       "{'du', 'ud'}"
      ]
     },
     "execution_count": 78,
     "output_type": "execute_result",
     "metadata": {}
    }
   ],
   "source": [
    "s.difference(t)  # in s but not t"
   ]
  },
  {
   "cell_type": "code",
   "execution_count": 79,
   "metadata": {},
   "outputs": [
    {
     "data": {
      "text/plain": [
       "{'dd', 'uu'}"
      ]
     },
     "execution_count": 79,
     "output_type": "execute_result",
     "metadata": {}
    }
   ],
   "source": [
    "t.difference(s)  # in t but not s"
   ]
  },
  {
   "cell_type": "code",
   "execution_count": 80,
   "metadata": {},
   "outputs": [
    {
     "data": {
      "text/plain": [
       "{'dd', 'du', 'ud', 'uu'}"
      ]
     },
     "execution_count": 80,
     "output_type": "execute_result",
     "metadata": {}
    }
   ],
   "source": [
    "s.symmetric_difference(t)  # in either one but not both"
   ]
  },
  {
   "cell_type": "code",
   "execution_count": 81,
   "metadata": {},
   "outputs": [
    {
     "data": {
      "text/plain": [
       "1000"
      ]
     },
     "execution_count": 81,
     "output_type": "execute_result",
     "metadata": {}
    }
   ],
   "source": [
    "from random import randint\n",
    "l = [randint(0, 10) for i in range(1000)]\n",
    "    # 1,000 random integers between 0 and 10\n",
    "len(l)  # number of elements in l"
   ]
  },
  {
   "cell_type": "code",
   "execution_count": 82,
   "metadata": {},
   "outputs": [
    {
     "data": {
      "text/plain": [
       "[7, 10, 7, 8, 1, 4, 1, 5, 8, 0, 8, 8, 8, 1, 0, 3, 3, 5, 9, 10]"
      ]
     },
     "execution_count": 82,
     "output_type": "execute_result",
     "metadata": {}
    }
   ],
   "source": [
    "l[:20]"
   ]
  },
  {
   "cell_type": "code",
   "execution_count": 83,
   "metadata": {},
   "outputs": [
    {
     "data": {
      "text/plain": [
       "{0, 1, 2, 3, 4, 5, 6, 7, 8, 9, 10}"
      ]
     },
     "execution_count": 83,
     "output_type": "execute_result",
     "metadata": {}
    }
   ],
   "source": [
    "s = set(l)\n",
    "s"
   ]
  },
  {
   "cell_type": "markdown",
   "metadata": {},
   "source": [
    "## NumPy Data Structures"
   ]
  },
  {
   "cell_type": "markdown",
   "metadata": {},
   "source": [
    "### Arrays with Python Lists"
   ]
  },
  {
   "cell_type": "code",
   "execution_count": 84,
   "metadata": {},
   "outputs": [],
   "source": [
    "v = [0.5, 0.75, 1.0, 1.5, 2.0]  # vector of numbers"
   ]
  },
  {
   "cell_type": "code",
   "execution_count": 85,
   "metadata": {},
   "outputs": [
    {
     "data": {
      "text/plain": [
       "[[0.5, 0.75, 1.0, 1.5, 2.0],\n",
       " [0.5, 0.75, 1.0, 1.5, 2.0],\n",
       " [0.5, 0.75, 1.0, 1.5, 2.0]]"
      ]
     },
     "execution_count": 85,
     "output_type": "execute_result",
     "metadata": {}
    }
   ],
   "source": [
    "m = [v, v, v]  # matrix of numbers\n",
    "m"
   ]
  },
  {
   "cell_type": "code",
   "execution_count": 86,
   "metadata": {},
   "outputs": [
    {
     "data": {
      "text/plain": [
       "[0.5, 0.75, 1.0, 1.5, 2.0]"
      ]
     },
     "execution_count": 86,
     "output_type": "execute_result",
     "metadata": {}
    }
   ],
   "source": [
    "m[1]"
   ]
  },
  {
   "cell_type": "code",
   "execution_count": 87,
   "metadata": {},
   "outputs": [
    {
     "data": {
      "text/plain": [
       "0.5"
      ]
     },
     "execution_count": 87,
     "output_type": "execute_result",
     "metadata": {}
    }
   ],
   "source": [
    "m[1][0]"
   ]
  },
  {
   "cell_type": "code",
   "execution_count": 88,
   "metadata": {},
   "outputs": [
    {
     "data": {
      "text/plain": [
       "[[[0.5, 1.5], [1, 2]], [[0.5, 1.5], [1, 2]]]"
      ]
     },
     "execution_count": 88,
     "output_type": "execute_result",
     "metadata": {}
    }
   ],
   "source": [
    "v1 = [0.5, 1.5]\n",
    "v2 = [1, 2]\n",
    "m = [v1, v2]\n",
    "c = [m, m]  # cube of numbers\n",
    "c"
   ]
  },
  {
   "cell_type": "code",
   "execution_count": 89,
   "metadata": {},
   "outputs": [
    {
     "data": {
      "text/plain": [
       "1"
      ]
     },
     "execution_count": 89,
     "output_type": "execute_result",
     "metadata": {}
    }
   ],
   "source": [
    "c[1][1][0]"
   ]
  },
  {
   "cell_type": "code",
   "execution_count": 90,
   "metadata": {},
   "outputs": [
    {
     "data": {
      "text/plain": [
       "[[0.5, 0.75, 1.0, 1.5, 2.0],\n",
       " [0.5, 0.75, 1.0, 1.5, 2.0],\n",
       " [0.5, 0.75, 1.0, 1.5, 2.0]]"
      ]
     },
     "execution_count": 90,
     "output_type": "execute_result",
     "metadata": {}
    }
   ],
   "source": [
    "v = [0.5, 0.75, 1.0, 1.5, 2.0]\n",
    "m = [v, v, v]\n",
    "m"
   ]
  },
  {
   "cell_type": "code",
   "execution_count": 91,
   "metadata": {},
   "outputs": [
    {
     "data": {
      "text/plain": [
       "[['Python', 0.75, 1.0, 1.5, 2.0],\n",
       " ['Python', 0.75, 1.0, 1.5, 2.0],\n",
       " ['Python', 0.75, 1.0, 1.5, 2.0]]"
      ]
     },
     "execution_count": 91,
     "output_type": "execute_result",
     "metadata": {}
    }
   ],
   "source": [
    "v[0] = 'Python'\n",
    "m"
   ]
  },
  {
   "cell_type": "code",
   "execution_count": 92,
   "metadata": {},
   "outputs": [
    {
     "data": {
      "text/plain": [
       "[[0.5, 0.75, 1.0, 1.5, 2.0],\n",
       " [0.5, 0.75, 1.0, 1.5, 2.0],\n",
       " [0.5, 0.75, 1.0, 1.5, 2.0]]"
      ]
     },
     "execution_count": 92,
     "output_type": "execute_result",
     "metadata": {}
    }
   ],
   "source": [
    "from copy import deepcopy\n",
    "v = [0.5, 0.75, 1.0, 1.5, 2.0]\n",
    "m = 3 * [deepcopy(v), ]\n",
    "m"
   ]
  },
  {
   "cell_type": "code",
   "execution_count": 93,
   "metadata": {},
   "outputs": [
    {
     "data": {
      "text/plain": [
       "[[0.5, 0.75, 1.0, 1.5, 2.0],\n",
       " [0.5, 0.75, 1.0, 1.5, 2.0],\n",
       " [0.5, 0.75, 1.0, 1.5, 2.0]]"
      ]
     },
     "execution_count": 93,
     "output_type": "execute_result",
     "metadata": {}
    }
   ],
   "source": [
    "v[0] = 'Python'\n",
    "m"
   ]
  },
  {
   "cell_type": "markdown",
   "metadata": {},
   "source": [
    "### Regular NumPy Arrays"
   ]
  },
  {
   "cell_type": "code",
   "execution_count": 94,
   "metadata": {},
   "outputs": [],
   "source": [
    "import numpy as np"
   ]
  },
  {
   "cell_type": "code",
   "execution_count": 95,
   "metadata": {},
   "outputs": [
    {
     "data": {
      "text/plain": [
       "numpy.ndarray"
      ]
     },
     "execution_count": 95,
     "output_type": "execute_result",
     "metadata": {}
    }
   ],
   "source": [
    "a = np.array([0, 0.5, 1.0, 1.5, 2.0])\n",
    "type(a)"
   ]
  },
  {
   "cell_type": "code",
   "execution_count": 96,
   "metadata": {},
   "outputs": [
    {
     "data": {
      "text/plain": [
       "array([ 0. ,  0.5])"
      ]
     },
     "execution_count": 96,
     "output_type": "execute_result",
     "metadata": {}
    }
   ],
   "source": [
    "a[:2]  # indexing as with list objects in 1 dimension"
   ]
  },
  {
   "cell_type": "code",
   "execution_count": 97,
   "metadata": {},
   "outputs": [
    {
     "data": {
      "text/plain": [
       "5.0"
      ]
     },
     "execution_count": 97,
     "output_type": "execute_result",
     "metadata": {}
    }
   ],
   "source": [
    "a.sum()  # sum of all elements"
   ]
  },
  {
   "cell_type": "code",
   "execution_count": 98,
   "metadata": {},
   "outputs": [
    {
     "data": {
      "text/plain": [
       "0.70710678118654757"
      ]
     },
     "execution_count": 98,
     "output_type": "execute_result",
     "metadata": {}
    }
   ],
   "source": [
    "a.std()  # standard deviation"
   ]
  },
  {
   "cell_type": "code",
   "execution_count": 99,
   "metadata": {},
   "outputs": [
    {
     "data": {
      "text/plain": [
       "array([ 0. ,  0.5,  1.5,  3. ,  5. ])"
      ]
     },
     "execution_count": 99,
     "output_type": "execute_result",
     "metadata": {}
    }
   ],
   "source": [
    "a.cumsum()  # running cumulative sum"
   ]
  },
  {
   "cell_type": "code",
   "execution_count": 100,
   "metadata": {},
   "outputs": [
    {
     "data": {
      "text/plain": [
       "array([ 0.,  1.,  2.,  3.,  4.])"
      ]
     },
     "execution_count": 100,
     "output_type": "execute_result",
     "metadata": {}
    }
   ],
   "source": [
    "a * 2"
   ]
  },
  {
   "cell_type": "code",
   "execution_count": 101,
   "metadata": {},
   "outputs": [
    {
     "data": {
      "text/plain": [
       "array([ 0.  ,  0.25,  1.  ,  2.25,  4.  ])"
      ]
     },
     "execution_count": 101,
     "output_type": "execute_result",
     "metadata": {}
    }
   ],
   "source": [
    "a ** 2"
   ]
  },
  {
   "cell_type": "code",
   "execution_count": 102,
   "metadata": {},
   "outputs": [
    {
     "data": {
      "text/plain": [
       "array([ 0.        ,  0.70710678,  1.        ,  1.22474487,  1.41421356])"
      ]
     },
     "execution_count": 102,
     "output_type": "execute_result",
     "metadata": {}
    }
   ],
   "source": [
    "np.sqrt(a)"
   ]
  },
  {
   "cell_type": "code",
   "execution_count": 103,
   "metadata": {},
   "outputs": [
    {
     "data": {
      "text/plain": [
       "array([[ 0. ,  0.5,  1. ,  1.5,  2. ],\n",
       "       [ 0. ,  1. ,  2. ,  3. ,  4. ]])"
      ]
     },
     "execution_count": 103,
     "output_type": "execute_result",
     "metadata": {}
    }
   ],
   "source": [
    "b = np.array([a, a * 2])\n",
    "b"
   ]
  },
  {
   "cell_type": "code",
   "execution_count": 104,
   "metadata": {},
   "outputs": [
    {
     "data": {
      "text/plain": [
       "array([ 0. ,  0.5,  1. ,  1.5,  2. ])"
      ]
     },
     "execution_count": 104,
     "output_type": "execute_result",
     "metadata": {}
    }
   ],
   "source": [
    "b[0]  # first row"
   ]
  },
  {
   "cell_type": "code",
   "execution_count": 105,
   "metadata": {},
   "outputs": [
    {
     "data": {
      "text/plain": [
       "1.0"
      ]
     },
     "execution_count": 105,
     "output_type": "execute_result",
     "metadata": {}
    }
   ],
   "source": [
    "b[0, 2]  # third element of first row"
   ]
  },
  {
   "cell_type": "code",
   "execution_count": 106,
   "metadata": {},
   "outputs": [
    {
     "data": {
      "text/plain": [
       "15.0"
      ]
     },
     "execution_count": 106,
     "output_type": "execute_result",
     "metadata": {}
    }
   ],
   "source": [
    "b.sum()"
   ]
  },
  {
   "cell_type": "code",
   "execution_count": 107,
   "metadata": {},
   "outputs": [
    {
     "data": {
      "text/plain": [
       "array([ 0. ,  1.5,  3. ,  4.5,  6. ])"
      ]
     },
     "execution_count": 107,
     "output_type": "execute_result",
     "metadata": {}
    }
   ],
   "source": [
    "b.sum(axis=0)\n",
    "  # sum along axis 0, i.e. column-wise sum"
   ]
  },
  {
   "cell_type": "code",
   "execution_count": 108,
   "metadata": {},
   "outputs": [
    {
     "data": {
      "text/plain": [
       "array([  5.,  10.])"
      ]
     },
     "execution_count": 108,
     "output_type": "execute_result",
     "metadata": {}
    }
   ],
   "source": [
    "b.sum(axis=1)\n",
    "  # sum along axis 1, i.e. row-wise sum"
   ]
  },
  {
   "cell_type": "code",
   "execution_count": 109,
   "metadata": {},
   "outputs": [
    {
     "data": {
      "text/plain": [
       "array([[[0, 0, 0, 0],\n",
       "        [0, 0, 0, 0],\n",
       "        [0, 0, 0, 0]],\n",
       "\n",
       "       [[0, 0, 0, 0],\n",
       "        [0, 0, 0, 0],\n",
       "        [0, 0, 0, 0]]], dtype=int32)"
      ]
     },
     "execution_count": 109,
     "output_type": "execute_result",
     "metadata": {}
    }
   ],
   "source": [
    "c = np.zeros((2, 3, 4), dtype='i', order='C')  # also: np.ones()\n",
    "c"
   ]
  },
  {
   "cell_type": "code",
   "execution_count": 110,
   "metadata": {},
   "outputs": [
    {
     "data": {
      "text/plain": [
       "array([[[ 1.0,  1.0,  1.0,  1.0],\n",
       "        [ 1.0,  1.0,  1.0,  1.0],\n",
       "        [ 1.0,  1.0,  1.0,  1.0]],\n",
       "\n",
       "       [[ 1.0,  1.0,  1.0,  1.0],\n",
       "        [ 1.0,  1.0,  1.0,  1.0],\n",
       "        [ 1.0,  1.0,  1.0,  1.0]]], dtype=float128)"
      ]
     },
     "execution_count": 110,
     "output_type": "execute_result",
     "metadata": {}
    }
   ],
   "source": [
    "d = np.ones_like(c, dtype='f16', order='C')  # also: np.zeros_like()\n",
    "d"
   ]
  },
  {
   "cell_type": "code",
   "execution_count": 111,
   "metadata": {},
   "outputs": [],
   "source": [
    "import random\n",
    "I = 5000"
   ]
  },
  {
   "cell_type": "code",
   "execution_count": 112,
   "metadata": {},
   "outputs": [
    {
     "name": "stdout",
     "output_type": "stream",
     "text": [
      "CPU times: user 18.8 s, sys: 208 ms, total: 19 s\n",
      "Wall time: 19 s\n"
     ]
    }
   ],
   "source": [
    "%time mat = [[random.gauss(0, 1) for j in range(I)] for i in range(I)]\n",
    "  # a nested list comprehension"
   ]
  },
  {
   "cell_type": "code",
   "execution_count": 113,
   "metadata": {},
   "outputs": [
    {
     "name": "stdout",
     "output_type": "stream",
     "text": [
      "CPU times: user 2.35 s, sys: 16 ms, total: 2.37 s\n",
      "Wall time: 2.31 s\n"
     ]
    },
    {
     "data": {
      "text/plain": [
       "-8459.674196561838"
      ]
     },
     "execution_count": 113,
     "output_type": "execute_result",
     "metadata": {}
    }
   ],
   "source": [
    "%time reduce(lambda x, y: x + y,      \\\n",
    "     [reduce(lambda x, y: x + y, row) \\\n",
    "             for row in mat])"
   ]
  },
  {
   "cell_type": "code",
   "execution_count": 114,
   "metadata": {},
   "outputs": [
    {
     "name": "stdout",
     "output_type": "stream",
     "text": [
      "CPU times: user 1.21 s, sys: 35 ms, total: 1.25 s\n",
      "Wall time: 1.25 s\n"
     ]
    }
   ],
   "source": [
    "%time mat = np.random.standard_normal((I, I))"
   ]
  },
  {
   "cell_type": "code",
   "execution_count": 115,
   "metadata": {},
   "outputs": [
    {
     "name": "stdout",
     "output_type": "stream",
     "text": [
      "CPU times: user 17 ms, sys: 0 ns, total: 17 ms\n",
      "Wall time: 16.9 ms\n"
     ]
    },
    {
     "data": {
      "text/plain": [
       "7737.7364595970648"
      ]
     },
     "execution_count": 115,
     "output_type": "execute_result",
     "metadata": {}
    }
   ],
   "source": [
    "%time mat.sum()"
   ]
  },
  {
   "cell_type": "markdown",
   "metadata": {},
   "source": [
    "### Structured Arrays"
   ]
  },
  {
   "cell_type": "code",
   "execution_count": 116,
   "metadata": {},
   "outputs": [
    {
     "data": {
      "text/plain": [
       "array([('Smith', 45, 1.8300000429153442, [0, 1]),\n",
       "       ('Jones', 53, 1.7200000286102295, [2, 2])], \n",
       "      dtype=[('Name', 'S10'), ('Age', '<i4'), ('Height', '<f4'), ('Children/Pets', '<i4', (2,))])"
      ]
     },
     "execution_count": 116,
     "output_type": "execute_result",
     "metadata": {}
    }
   ],
   "source": [
    "dt = np.dtype([('Name', 'S10'), ('Age', 'i4'),\n",
    "               ('Height', 'f'), ('Children/Pets', 'i4', 2)])\n",
    "s = np.array([('Smith', 45, 1.83, (0, 1)),\n",
    "              ('Jones', 53, 1.72, (2, 2))], dtype=dt)\n",
    "s"
   ]
  },
  {
   "cell_type": "code",
   "execution_count": 117,
   "metadata": {},
   "outputs": [
    {
     "data": {
      "text/plain": [
       "array(['Smith', 'Jones'], \n",
       "      dtype='|S10')"
      ]
     },
     "execution_count": 117,
     "output_type": "execute_result",
     "metadata": {}
    }
   ],
   "source": [
    "s['Name']"
   ]
  },
  {
   "cell_type": "code",
   "execution_count": 118,
   "metadata": {},
   "outputs": [
    {
     "data": {
      "text/plain": [
       "1.7750001"
      ]
     },
     "execution_count": 118,
     "output_type": "execute_result",
     "metadata": {}
    }
   ],
   "source": [
    "s['Height'].mean()"
   ]
  },
  {
   "cell_type": "code",
   "execution_count": 119,
   "metadata": {},
   "outputs": [
    {
     "data": {
      "text/plain": [
       "53"
      ]
     },
     "execution_count": 119,
     "output_type": "execute_result",
     "metadata": {}
    }
   ],
   "source": [
    "s[1]['Age']"
   ]
  },
  {
   "cell_type": "markdown",
   "metadata": {},
   "source": [
    "## Vectorization of Code"
   ]
  },
  {
   "cell_type": "markdown",
   "metadata": {},
   "source": [
    "### Basic Vectorization"
   ]
  },
  {
   "cell_type": "code",
   "execution_count": 120,
   "metadata": {},
   "outputs": [],
   "source": [
    "r = np.random.standard_normal((4, 3))\n",
    "s = np.random.standard_normal((4, 3))"
   ]
  },
  {
   "cell_type": "code",
   "execution_count": 121,
   "metadata": {},
   "outputs": [
    {
     "data": {
      "text/plain": [
       "array([[ 2.38654635,  0.35371652,  1.46587961],\n",
       "       [ 1.23374567, -0.44253431, -0.51081827],\n",
       "       [-0.44966195,  1.59061843,  1.90110537],\n",
       "       [-0.77813354,  1.73737312,  0.5404587 ]])"
      ]
     },
     "execution_count": 121,
     "output_type": "execute_result",
     "metadata": {}
    }
   ],
   "source": [
    "r + s"
   ]
  },
  {
   "cell_type": "code",
   "execution_count": 122,
   "metadata": {},
   "outputs": [
    {
     "data": {
      "text/plain": [
       "array([[ 2.89556623,  2.01758969,  3.59465815],\n",
       "       [ 6.24990857,  0.88815123,  5.34005823],\n",
       "       [ 4.97851596,  5.41193176,  6.05443268],\n",
       "       [ 4.61678106,  4.47210273,  3.82685981]])"
      ]
     },
     "execution_count": 122,
     "output_type": "execute_result",
     "metadata": {}
    }
   ],
   "source": [
    "2 * r + 3"
   ]
  },
  {
   "cell_type": "code",
   "execution_count": 123,
   "metadata": {},
   "outputs": [
    {
     "data": {
      "text/plain": [
       "array([[-0.71067455, -1.25644169,  1.7662886 ],\n",
       "       [ 0.96649662, -1.82116092,  2.63898864],\n",
       "       [ 0.33080031,  0.44072935,  2.99617587],\n",
       "       [ 0.14993286, -0.02918517,  1.88238943]])"
      ]
     },
     "execution_count": 123,
     "output_type": "execute_result",
     "metadata": {}
    }
   ],
   "source": [
    "s = np.random.standard_normal(3)\n",
    "r + s"
   ]
  },
  {
   "cell_type": "code",
   "execution_count": 124,
   "metadata": {},
   "outputs": [],
   "source": [
    "# causes intentional error\n",
    "# s = np.random.standard_normal(4)\n",
    "# r + s"
   ]
  },
  {
   "cell_type": "code",
   "execution_count": 125,
   "metadata": {},
   "outputs": [],
   "source": [
    "# r.transpose() + s"
   ]
  },
  {
   "cell_type": "code",
   "execution_count": 126,
   "metadata": {},
   "outputs": [
    {
     "data": {
      "text/plain": [
       "(3, 4)"
      ]
     },
     "execution_count": 126,
     "output_type": "execute_result",
     "metadata": {}
    }
   ],
   "source": [
    "np.shape(r.T)"
   ]
  },
  {
   "cell_type": "code",
   "execution_count": 127,
   "metadata": {},
   "outputs": [],
   "source": [
    "def f(x):\n",
    "    return 3 * x + 5"
   ]
  },
  {
   "cell_type": "code",
   "execution_count": 128,
   "metadata": {},
   "outputs": [
    {
     "data": {
      "text/plain": [
       "6.5"
      ]
     },
     "execution_count": 128,
     "output_type": "execute_result",
     "metadata": {}
    }
   ],
   "source": [
    "f(0.5)  # float object"
   ]
  },
  {
   "cell_type": "code",
   "execution_count": 129,
   "metadata": {},
   "outputs": [
    {
     "data": {
      "text/plain": [
       "array([[ 4.84334935,  3.52638454,  5.89198723],\n",
       "       [ 9.87486286,  1.83222685,  8.51008734],\n",
       "       [ 7.96777394,  8.61789764,  9.58164902],\n",
       "       [ 7.42517159,  7.2081541 ,  6.24028971]])"
      ]
     },
     "execution_count": 129,
     "output_type": "execute_result",
     "metadata": {}
    }
   ],
   "source": [
    "f(r)  # NumPy array"
   ]
  },
  {
   "cell_type": "code",
   "execution_count": 130,
   "metadata": {},
   "outputs": [],
   "source": [
    "# causes intentional error\n",
    "# import math\n",
    "# math.sin(r)"
   ]
  },
  {
   "cell_type": "code",
   "execution_count": 131,
   "metadata": {},
   "outputs": [
    {
     "data": {
      "text/plain": [
       "array([[-0.05219316, -0.47168889,  0.29296752],\n",
       "       [ 0.99853382, -0.87035579,  0.92076196],\n",
       "       [ 0.83561861,  0.93418427,  0.99905054],\n",
       "       [ 0.72317651,  0.67136672,  0.40175261]])"
      ]
     },
     "execution_count": 131,
     "output_type": "execute_result",
     "metadata": {}
    }
   ],
   "source": [
    "np.sin(r)  # array as input"
   ]
  },
  {
   "cell_type": "code",
   "execution_count": 132,
   "metadata": {},
   "outputs": [
    {
     "data": {
      "text/plain": [
       "1.2246467991473532e-16"
      ]
     },
     "execution_count": 132,
     "output_type": "execute_result",
     "metadata": {}
    }
   ],
   "source": [
    "np.sin(np.pi)  # float as input"
   ]
  },
  {
   "cell_type": "markdown",
   "metadata": {},
   "source": [
    "### Memory Layout"
   ]
  },
  {
   "cell_type": "code",
   "execution_count": 133,
   "metadata": {},
   "outputs": [],
   "source": [
    "x = np.random.standard_normal((5, 10000000))\n",
    "y = 2 * x + 3  # linear equation y = a * x + b\n",
    "C = np.array((x, y), order='C')\n",
    "F = np.array((x, y), order='F')\n",
    "x = 0.0; y = 0.0  # memory clean-up"
   ]
  },
  {
   "cell_type": "code",
   "execution_count": 134,
   "metadata": {},
   "outputs": [
    {
     "data": {
      "text/plain": [
       "array([[[-0.38, -0.83, -0.28, ..., -0.48,  0.21, -0.76],\n",
       "        [-0.11,  0.77,  0.81, ..., -0.67,  0.2 , -1.23],\n",
       "        [-1.03, -0.6 , -0.53, ...,  0.59, -0.5 , -0.25],\n",
       "        [ 0.65,  0.62,  1.67, ...,  0.8 , -1.82,  0.59],\n",
       "        [-0.44, -0.2 , -1.82, ...,  1.23,  0.03,  0.78]],\n",
       "\n",
       "       [[ 2.24,  1.35,  2.44, ...,  2.04,  3.41,  1.49],\n",
       "        [ 2.78,  4.55,  4.63, ...,  1.67,  3.4 ,  0.53],\n",
       "        [ 0.93,  1.8 ,  1.94, ...,  4.18,  2.  ,  2.49],\n",
       "        [ 4.31,  4.25,  6.35, ...,  4.59, -0.64,  4.18],\n",
       "        [ 2.11,  2.59, -0.64, ...,  5.45,  3.05,  4.55]]])"
      ]
     },
     "execution_count": 134,
     "output_type": "execute_result",
     "metadata": {}
    }
   ],
   "source": [
    "C[:2].round(2)"
   ]
  },
  {
   "cell_type": "code",
   "execution_count": 135,
   "metadata": {},
   "outputs": [
    {
     "name": "stdout",
     "output_type": "stream",
     "text": [
      "10 loops, best of 3: 68.9 ms per loop\n"
     ]
    }
   ],
   "source": [
    "%timeit C.sum()"
   ]
  },
  {
   "cell_type": "code",
   "execution_count": 136,
   "metadata": {},
   "outputs": [
    {
     "name": "stdout",
     "output_type": "stream",
     "text": [
      "10 loops, best of 3: 67.4 ms per loop\n"
     ]
    }
   ],
   "source": [
    "%timeit F.sum()"
   ]
  },
  {
   "cell_type": "code",
   "execution_count": 137,
   "metadata": {},
   "outputs": [
    {
     "name": "stdout",
     "output_type": "stream",
     "text": [
      "10 loops, best of 3: 94 ms per loop\n"
     ]
    }
   ],
   "source": [
    "%timeit C[0].sum(axis=0)"
   ]
  },
  {
   "cell_type": "code",
   "execution_count": 138,
   "metadata": {},
   "outputs": [
    {
     "name": "stdout",
     "output_type": "stream",
     "text": [
      "10 loops, best of 3: 33.7 ms per loop\n"
     ]
    }
   ],
   "source": [
    "%timeit C[0].sum(axis=1)"
   ]
  },
  {
   "cell_type": "code",
   "execution_count": 139,
   "metadata": {},
   "outputs": [
    {
     "name": "stdout",
     "output_type": "stream",
     "text": [
      "1 loops, best of 3: 682 ms per loop\n"
     ]
    }
   ],
   "source": [
    "%timeit F.sum(axis=0)"
   ]
  },
  {
   "cell_type": "code",
   "execution_count": 140,
   "metadata": {},
   "outputs": [
    {
     "name": "stdout",
     "output_type": "stream",
     "text": [
      "1 loops, best of 3: 1.89 s per loop\n"
     ]
    }
   ],
   "source": [
    "%timeit F.sum(axis=1)"
   ]
  },
  {
   "cell_type": "code",
   "execution_count": 141,
   "metadata": {},
   "outputs": [],
   "source": [
    "F = 0.0; C = 0.0  # memory clean-up"
   ]
  },
  {
   "cell_type": "markdown",
   "metadata": {},
   "source": [
    "## Conclusions"
   ]
  },
  {
   "cell_type": "markdown",
   "metadata": {},
   "source": [
    "## Further Reading"
   ]
  },
  {
   "cell_type": "markdown",
   "metadata": {},
   "source": [
    "<img src=\"http://hilpisch.com/tpq_logo.png\" alt=\"The Python Quants\" width=\"35%\" align=\"right\" border=\"0\"><br>\n",
    "\n",
    "<a href=\"http://www.pythonquants.com\" target=\"_blank\">www.pythonquants.com</a> | <a href=\"http://twitter.com/dyjh\" target=\"_blank\">@dyjh</a>\n",
    "\n",
    "<a href=\"mailto:analytics@pythonquants.com\">analytics@pythonquants.com</a>\n",
    "\n",
    "**Python Quant Platform** |\n",
    "<a href=\"http://oreilly.quant-platform.com\">http://oreilly.quant-platform.com</a>\n",
    "\n",
    "**Derivatives Analytics with Python** |\n",
    "<a href=\"http://www.derivatives-analytics-with-python.com\" target=\"_blank\">Derivatives Analytics @ Wiley Finance</a>\n",
    "\n",
    "**Python for Finance** |\n",
    "<a href=\"http://shop.oreilly.com/product/0636920032441.do\" target=\"_blank\">Python for Finance @ O'Reilly</a>"
   ]
  }
 ],
 "metadata": {
  "kernelspec": {
   "display_name": "Python 3",
   "language": "python",
   "name": "python3"
  },
  "language_info": {
   "codemirror_mode": {
    "name": "ipython",
    "version": 3.0
   },
   "file_extension": ".py",
   "mimetype": "text/x-python",
   "name": "python",
   "nbconvert_exporter": "python",
   "pygments_lexer": "ipython3",
   "version": "3.4.3"
  }
 },
 "nbformat": 4,
 "nbformat_minor": 0
}